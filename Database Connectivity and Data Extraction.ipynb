{
 "cells": [
  {
   "cell_type": "code",
   "execution_count": 1,
   "metadata": {},
   "outputs": [],
   "source": [
    "import mysql.connector as may\n",
    "from collections import Counter\n",
    "import random"
   ]
  },
  {
   "cell_type": "code",
   "execution_count": 2,
   "metadata": {},
   "outputs": [],
   "source": [
    "passw=input(\"Enter the password: \")\n",
    "mycon=may.connect(host='localhost', user='root', passwd=passw, database='projectst')"
   ]
  },
  {
   "cell_type": "code",
   "execution_count": 3,
   "metadata": {},
   "outputs": [],
   "source": [
    "cursor=mycon.cursor()"
   ]
  },
  {
   "cell_type": "code",
   "execution_count": 4,
   "metadata": {},
   "outputs": [],
   "source": [
    "cursor.execute(\"SELECT * FROM Class\")\n",
    "ClassData=cursor.fetchall()"
   ]
  },
  {
   "cell_type": "code",
   "execution_count": 5,
   "metadata": {},
   "outputs": [
    {
     "name": "stdout",
     "output_type": "stream",
     "text": [
      "[('XII-A', 'History', 'HST01', 8, 'Civics', 'CV01', 8, 'Physical Edu', 'PE02', 8, 'Economics', 'ECO01', 8, 'English', 'ENG03', 8), ('XII-B', 'Accounts', 'ACC01', 8, 'Bussiness', 'BST2', 8, 'Physical Edu', 'PE01', 8, 'Economics', 'ECO01', 8, 'English', 'ENG01', 8), ('XII-C', 'Accounts', 'ACC01', 8, 'Bussiness', 'BST1', 8, 'Maths', 'MTH03', 8, 'Economics', 'ECO01', 8, 'English', 'ENG02', 8), ('XII-D', 'Physics', 'PHY01', 8, 'Chemistry', 'CHEM2', 8, 'Maths', 'MTH01', 8, 'Computer Sci', 'CS02', 8, 'English', 'ENG02', 8), ('XII-E', 'Physics', 'PHY01', 8, 'Chemistry', 'CHEM1', 8, 'Maths', 'MTH01', 8, 'Computer Sci', 'CS02', 8, 'English', 'ENG01', 8), ('XII-F', 'Physics', 'PHY01', 8, 'Chemistry', 'CHEM2', 8, 'Maths', 'MTH02', 8, 'Computer Sci', 'CS02', 8, 'English', 'ENG02', 8)]\n"
     ]
    }
   ],
   "source": [
    "print(ClassData)"
   ]
  },
  {
   "cell_type": "code",
   "execution_count": 6,
   "metadata": {},
   "outputs": [],
   "source": [
    "#This Function will combine Sunject, TeacherCode and No. of Periods for each subject\n",
    "#into a single for easy use\n",
    "\n",
    "ClassList=[]\n",
    "\n",
    "def ClCombiner(ClassData):\n",
    "    for i in range(0,len(ClassData)):\n",
    "        Cl=[]\n",
    "        Cl.append(ClassData[i][0])\n",
    "        Cl.append(ClassData[i][1:4])\n",
    "        Cl.append(ClassData[i][4:7])\n",
    "        Cl.append(ClassData[i][7:10])\n",
    "        Cl.append(ClassData[i][10:13])\n",
    "        Cl.append(ClassData[i][13:16])\n",
    "        ClassList.append(Cl)        "
   ]
  },
  {
   "cell_type": "code",
   "execution_count": 7,
   "metadata": {},
   "outputs": [],
   "source": [
    "ClCombiner(ClassData)"
   ]
  },
  {
   "cell_type": "code",
   "execution_count": 8,
   "metadata": {},
   "outputs": [
    {
     "name": "stdout",
     "output_type": "stream",
     "text": [
      "[['XII-A', ('History', 'HST01', 8), ('Civics', 'CV01', 8), ('Physical Edu', 'PE02', 8), ('Economics', 'ECO01', 8), ('English', 'ENG03', 8)], ['XII-B', ('Accounts', 'ACC01', 8), ('Bussiness', 'BST2', 8), ('Physical Edu', 'PE01', 8), ('Economics', 'ECO01', 8), ('English', 'ENG01', 8)], ['XII-C', ('Accounts', 'ACC01', 8), ('Bussiness', 'BST1', 8), ('Maths', 'MTH03', 8), ('Economics', 'ECO01', 8), ('English', 'ENG02', 8)], ['XII-D', ('Physics', 'PHY01', 8), ('Chemistry', 'CHEM2', 8), ('Maths', 'MTH01', 8), ('Computer Sci', 'CS02', 8), ('English', 'ENG02', 8)], ['XII-E', ('Physics', 'PHY01', 8), ('Chemistry', 'CHEM1', 8), ('Maths', 'MTH01', 8), ('Computer Sci', 'CS02', 8), ('English', 'ENG01', 8)], ['XII-F', ('Physics', 'PHY01', 8), ('Chemistry', 'CHEM2', 8), ('Maths', 'MTH02', 8), ('Computer Sci', 'CS02', 8), ('English', 'ENG02', 8)]]\n"
     ]
    }
   ],
   "source": [
    "print(ClassList)"
   ]
  },
  {
   "cell_type": "code",
   "execution_count": 9,
   "metadata": {},
   "outputs": [
    {
     "name": "stdout",
     "output_type": "stream",
     "text": [
      "[('Jyoti Sharma', 'CHEM1', 'CHEMISTRY', 'CHY', 8), ('Jigyasa Jain', 'CHEM2', 'Chemistry', 'CHY', 16), ('Vinod Verma', 'MTH01', 'Maths', 'MATH', 16), ('Pallavi Aggarwal', 'MTH02', 'Maths', 'MATH', 8), ('Anubha', 'MTH03', 'Maths', 'MATH', 8), ('Amit Tomar', 'PHY01', 'Physics', 'PHY', 16), ('Ansara Banu', 'CS02', 'Computer Sci', 'CS', 16), ('Anjali Goswami', 'ENG01', 'English', 'ENG', 16), ('Ruchi Jain', 'ENG02', 'English', 'ENG', 24), ('Akriti Sinha', 'ENG03', 'English', 'ENG', 8), ('Sachin Sharma', 'PE01', 'Physical Edu', 'PE', 8), ('Harinder', 'PE02', 'Physical Edu', 'PE', 8), ('Sakshi', 'ECO01', 'Economics', 'ECO', 24), ('Vishal Dhingra', 'ACC01', 'Accounts', 'ACC', 16), ('Pooja Gupta', 'BST2', 'Bussiness', 'BST', 8), ('Neha Gupta', 'BST1', 'Bussiness', 'BST', 8), ('Swarupa', 'HST01', 'History', 'HST', 8), ('Mukesh', 'CV01', 'CIVICS', 'CV', 8)]\n"
     ]
    }
   ],
   "source": [
    "cursor.execute(\"SELECT * FROM Teacher\")\n",
    "TeacherData=cursor.fetchall()\n",
    "print(TeacherData)"
   ]
  },
  {
   "cell_type": "code",
   "execution_count": 10,
   "metadata": {},
   "outputs": [],
   "source": [
    "def ttinitiator(d):\n",
    "    d[0][0]=\"Zero\"\n",
    "    d[1][0]='Monday'\n",
    "    d[2][0]='Tuesday'\n",
    "    d[3][0]='Wednesday'\n",
    "    d[4][0]='Thursday'\n",
    "    d[5][0]='Friday'\n",
    "    d[0][1]=\"1\"\n",
    "    d[0][2]=\"2\"\n",
    "    d[0][3]=\"3\"\n",
    "    d[0][4]=\"4\"\n",
    "    d[0][5]=\"5\"\n",
    "    d[0][6]=\"6\"\n",
    "    d[0][7]=\"7\"\n",
    "    d[0][8]=\"8\""
   ]
  },
  {
   "cell_type": "code",
   "execution_count": 11,
   "metadata": {},
   "outputs": [],
   "source": [
    "#Function to insert subjects in student time table\n",
    "def stt_insert(tt, sub, pos):\n",
    "    tt[pos[0]][pos[1]]=sub\n",
    "    \n",
    "#Function to insert classes in teacher time table\n",
    "def ttt_insert(tt, Classs, pos):\n",
    "    tt[pos[0]][pos[1]]=Classs"
   ]
  },
  {
   "cell_type": "code",
   "execution_count": 12,
   "metadata": {},
   "outputs": [],
   "source": [
    "Subject ={'English':'ENG',\n",
    "          'Physics':'PHY',\n",
    "          'Chemistry':'CHY',\n",
    "          'Maths':'MATH',\n",
    "          'Accounts':'ACC',\n",
    "          'Bussiness':'BST',\n",
    "          'Economics':'ECO',\n",
    "          'Computer Sci':'CS',\n",
    "          'History':'HST',\n",
    "          'Civics':'CV',\n",
    "          'Physical Edu':'PE'\n",
    "         }"
   ]
  },
  {
   "cell_type": "code",
   "execution_count": 13,
   "metadata": {},
   "outputs": [],
   "source": [
    "class Class:\n",
    "    \n",
    "    def __init__(self, classname,sub1,sub2,sub3,sub4,sub5):\n",
    "        \n",
    "        self.classname=classname\n",
    "        s1=Subject[sub1[0]]\n",
    "        s2=Subject[sub2[0]]\n",
    "        s3=Subject[sub3[0]]\n",
    "        s4=Subject[sub4[0]]\n",
    "        s5=Subject[sub5[0]]\n",
    "        \n",
    "        self.subject1=s1\n",
    "        self.subject2=s2\n",
    "        self.subject3=s3\n",
    "        self.subject4=s4\n",
    "        self.subject5=s5\n",
    "        \n",
    "        t1=sub1[1]\n",
    "        t2=sub2[1]\n",
    "        t3=sub3[1]\n",
    "        t4=sub4[1]\n",
    "        t5=sub5[1]\n",
    "        \n",
    "        self.teacher1=t1   #s1, t1 will be subject code not names \n",
    "        self.teacher2=t2\n",
    "        self.teacher3=t3\n",
    "        self.teacher4=t4\n",
    "        self.teacher5=t5\n",
    "        \n",
    "        self.period1=sub1[2]\n",
    "        self.period2=sub2[2]\n",
    "        self.period3=sub3[2]\n",
    "        self.period4=sub4[2]\n",
    "        self.period5=sub5[2]\n",
    "        \n",
    "        subjects=(s1,s2,s3,s4,s5)\n",
    "        self.subjects=subjects\n",
    "        \n",
    "        periods=(sub1[2],sub2[2],sub3[2],sub4[2],sub5[2])\n",
    "        self.periods=periods\n",
    "        \n",
    "        #DICTIONARY LINKING SUB CODE TO TEACHER CODE\n",
    "        D={s1:t1,\n",
    "           s2:t2,\n",
    "           s3:t3,\n",
    "           s4:t4,\n",
    "           s5:t5}\n",
    "        \n",
    "        self.D=D\n",
    "        \n",
    "        tt=[[0] * 9 for _ in range(6)]\n",
    "        ttinitiator(tt)\n",
    "        self.stt=tt"
   ]
  },
  {
   "cell_type": "code",
   "execution_count": 14,
   "metadata": {},
   "outputs": [],
   "source": [
    "E12= Class(ClassList[4][0],ClassList[4][1],ClassList[4][2],ClassList[4][3],ClassList[4][4],ClassList[4][5])\n",
    "F12= Class(ClassList[5][0],ClassList[5][1],ClassList[5][2],ClassList[5][3],ClassList[5][4],ClassList[5][5])\n",
    "D12= Class(ClassList[3][0],ClassList[3][1],ClassList[3][2],ClassList[3][3],ClassList[3][4],ClassList[3][5])\n",
    "C12= Class(ClassList[2][0],ClassList[2][1],ClassList[2][2],ClassList[2][3],ClassList[2][4],ClassList[2][5])\n",
    "B12= Class(ClassList[1][0],ClassList[1][1],ClassList[1][2],ClassList[1][3],ClassList[1][4],ClassList[1][5])\n",
    "A12= Class(ClassList[0][0],ClassList[0][1],ClassList[0][2],ClassList[0][3],ClassList[0][4],ClassList[0][5])\n"
   ]
  },
  {
   "cell_type": "code",
   "execution_count": 15,
   "metadata": {},
   "outputs": [],
   "source": [
    "class Teacher:\n",
    "    \n",
    "    def __init__(self, teachername, tcode,Subject,subcode,periods):\n",
    "        \n",
    "        self.teachername=teachername\n",
    "        self.teachercode=tcode\n",
    "        self.subject=Subject #s is the subject code\n",
    "        self.subjectcode=subcode\n",
    "        self.periods=periods\n",
    "        tt=[[0] * 9 for _ in range(6)]\n",
    "        ttinitiator(tt)\n",
    "        self.ttt=tt"
   ]
  },
  {
   "cell_type": "code",
   "execution_count": 16,
   "metadata": {},
   "outputs": [],
   "source": [
    "CHY1=Teacher(TeacherData[0][0],TeacherData[0][1],TeacherData[0][2],TeacherData[0][3],TeacherData[0][4])\n",
    "CHY2=Teacher(TeacherData[1][0],TeacherData[1][1],TeacherData[1][2],TeacherData[1][3],TeacherData[1][4])\n",
    "MATH1=Teacher(TeacherData[2][0],TeacherData[2][1],TeacherData[2][2],TeacherData[2][3],TeacherData[2][4])\n",
    "MATH2=Teacher(TeacherData[3][0],TeacherData[3][1],TeacherData[3][2],TeacherData[3][3],TeacherData[3][4])\n",
    "MATH3=Teacher(TeacherData[4][0],TeacherData[4][1],TeacherData[4][2],TeacherData[4][3],TeacherData[4][4])\n",
    "PHY1=Teacher(TeacherData[5][0],TeacherData[5][1],TeacherData[5][2],TeacherData[5][3],TeacherData[5][4])\n",
    "CS1=Teacher(TeacherData[6][0],TeacherData[6][1],TeacherData[6][2],TeacherData[6][3],TeacherData[6][4])\n",
    "ENG1=Teacher(TeacherData[7][0],TeacherData[7][1],TeacherData[7][2],TeacherData[7][3],TeacherData[7][4])\n",
    "ENG2=Teacher(TeacherData[8][0],TeacherData[8][1],TeacherData[8][2],TeacherData[8][3],TeacherData[8][4])\n",
    "ENG3=Teacher(TeacherData[9][0],TeacherData[9][1],TeacherData[9][2],TeacherData[9][3],TeacherData[9][4])\n",
    "PE1=Teacher(TeacherData[10][0],TeacherData[10][1],TeacherData[10][2],TeacherData[10][3],TeacherData[10][4])\n",
    "PE2=Teacher(TeacherData[11][0],TeacherData[11][1],TeacherData[11][2],TeacherData[11][3],TeacherData[11][4])\n",
    "ECO1=Teacher(TeacherData[12][0],TeacherData[12][1],TeacherData[12][2],TeacherData[12][3],TeacherData[12][4])\n",
    "ACC1=Teacher(TeacherData[13][0],TeacherData[13][1],TeacherData[13][2],TeacherData[13][3],TeacherData[13][4])\n",
    "BST1=Teacher(TeacherData[14][0],TeacherData[14][1],TeacherData[14][2],TeacherData[14][3],TeacherData[14][4])\n",
    "BST2=Teacher(TeacherData[15][0],TeacherData[15][1],TeacherData[15][2],TeacherData[15][3],TeacherData[15][4])\n",
    "HST1=Teacher(TeacherData[17][0],TeacherData[17][1],TeacherData[17][2],TeacherData[17][3],TeacherData[17][4])\n",
    "CV1=Teacher(TeacherData[16][0],TeacherData[16][1],TeacherData[16][2],TeacherData[16][3],TeacherData[16][4])\n"
   ]
  },
  {
   "cell_type": "code",
   "execution_count": 17,
   "metadata": {},
   "outputs": [
    {
     "data": {
      "text/plain": [
       "('PHY', 'CHY', 'MATH', 'CS', 'ENG')"
      ]
     },
     "execution_count": 17,
     "metadata": {},
     "output_type": "execute_result"
    }
   ],
   "source": [
    "E12.subjects"
   ]
  },
  {
   "cell_type": "markdown",
   "metadata": {},
   "source": [
    "# FILLING STUDENT AND TEACHERS TIME TABLE"
   ]
  },
  {
   "cell_type": "code",
   "execution_count": 18,
   "metadata": {},
   "outputs": [],
   "source": [
    "def TTvalid(teacher):\n",
    "    \n",
    "    tt=teacher.ttt\n",
    "    p=teacher.periods\n",
    "    #Checking for no more than 6 periods in a day\n",
    "    tcount=0\n",
    "    \n",
    "    for i in range(1,6):\n",
    "        count=0\n",
    "        for j in range(1,9):\n",
    "            if tt[i][j]==0:\n",
    "                count+=1\n",
    "        if count<2:\n",
    "            return False\n",
    "        tcount+=count\n",
    "        \n",
    "    #Checking only specified no. of periods are present in time table\n",
    "    if (40-tcount)>p:\n",
    "        return False\n",
    "    \n",
    "    return True"
   ]
  },
  {
   "cell_type": "code",
   "execution_count": 19,
   "metadata": {},
   "outputs": [
    {
     "data": {
      "text/plain": [
       "True"
      ]
     },
     "execution_count": 19,
     "metadata": {},
     "output_type": "execute_result"
    }
   ],
   "source": [
    "TTvalid(CHY1)"
   ]
  },
  {
   "cell_type": "code",
   "execution_count": 20,
   "metadata": {},
   "outputs": [],
   "source": [
    "def countSX(lst, x):\n",
    "    e=lst.count(x)\n",
    "    return e\n",
    "\n",
    "    \n",
    "def STvalid(student):\n",
    "    tt=student.stt\n",
    "    subjects=student.subjects\n",
    "    periods=student.periods\n",
    "    a=0\n",
    "    \n",
    "    for i in subjects:\n",
    "        te=0 # te for no. of periods of a subject in a week\n",
    "        for m in range(1,6):\n",
    "            e=countSX(tt[m][1:],i)\n",
    "            if e>2:\n",
    "                return False\n",
    "            te+=e\n",
    "        if te>periods[a]:\n",
    "            return False\n",
    "        a+=1\n",
    "    \n",
    "    #Checking that no. of periods for a subject do not cross sepcified number\n",
    "    \n",
    "    \n",
    "    return True"
   ]
  },
  {
   "cell_type": "code",
   "execution_count": 21,
   "metadata": {},
   "outputs": [
    {
     "data": {
      "text/plain": [
       "True"
      ]
     },
     "execution_count": 21,
     "metadata": {},
     "output_type": "execute_result"
    }
   ],
   "source": [
    "STvalid(E12)"
   ]
  },
  {
   "cell_type": "code",
   "execution_count": 22,
   "metadata": {},
   "outputs": [],
   "source": [
    "#Final class and teacher list containing object instance\n",
    "FCL=(A12,B12,C12,D12,E12,F12)\n",
    "FTL=(CHY1,CHY2,MATH1,MATH2,MATH3,PHY1,CS1,ACC1,ECO1,BST1,BST2,PE1,PE2,ENG1,ENG2,ENG3,HST1,CV1)"
   ]
  },
  {
   "cell_type": "code",
   "execution_count": 23,
   "metadata": {},
   "outputs": [],
   "source": [
    "#Using Random number generator and filling time tables and complinibg it all using\n",
    "#Backtracking(Recursions)\n",
    "\n",
    "def randomgenerate(): #WILL GENERATE PAIR OF RANDOM NO.\n",
    "    a=random.randrange(1,6,1)\n",
    "    b=random.randrange(1,9,1)\n",
    "    return (a,b)\n",
    "\n",
    "def findteacher(tch): #Fill time table for teacher\n",
    "    for i in FTL:\n",
    "        if i.teachercode==tch:\n",
    "            return i\n",
    "        \n",
    "def isEmpty(person): #It will check whether timetable is completely filled or not\n",
    "    tt=person.stt\n",
    "    for i in range(1,6):\n",
    "        for j in range(1,9):\n",
    "            if tt[i][j]==0:\n",
    "                return False\n",
    "    else:\n",
    "        return True\n",
    "\n",
    "def emptyFind(person):\n",
    "    tt=person.stt\n",
    "    for i in range(1,6):\n",
    "        for j in range(1,9):\n",
    "            if tt[i][j]==0:\n",
    "                return (i,j)\n",
    "    return None\n",
    "    "
   ]
  },
  {
   "cell_type": "code",
   "execution_count": 24,
   "metadata": {},
   "outputs": [],
   "source": [
    "def fill(student,a,b): #\n",
    "    classname=student.classname\n",
    "    tt=student.stt\n",
    "    D=student.D\n",
    "    subjects=student.subjects\n",
    "    \n",
    "    #a,b=randomgenerate()\n",
    "\n",
    "    c=random.choice(subjects)\n",
    "    #for c in subjects:\n",
    "    tch=D[c]\n",
    "\n",
    "    tr=findteacher(tch)\n",
    "\n",
    "    if tt[a][b]==0 and tr.ttt[a][b]==0:\n",
    "        tt[a][b]=c\n",
    "        tr.ttt[a][b]=classname\n",
    "\n",
    "    if STvalid(student) and TTvalid(tr):\n",
    "        pass\n",
    "    else:\n",
    "        tt[a][b]=0\n",
    "        tr.ttt[a][b]=0\n",
    "            \n",
    "def Fill(student,a,b): #\n",
    "    classname=student.classname\n",
    "    tt=student.stt\n",
    "    D=student.D\n",
    "    subjects=student.subjects\n",
    "    \n",
    "    c=tt[a][b]\n",
    "    tch=D[c]\n",
    "    findteacher(tch).ttt[a][b]=0    \n",
    "    tt[a][b]=0\n",
    "    \n",
    "    \n",
    "    \n",
    "\n",
    "    \n",
    "    "
   ]
  },
  {
   "cell_type": "code",
   "execution_count": 25,
   "metadata": {},
   "outputs": [],
   "source": [
    "def solve(student):\n",
    "    find=emptyFind(student)\n",
    "    if not find:\n",
    "        xy=-1\n",
    "        return True\n",
    "    else:\n",
    "        row,col = find\n",
    "        xy=3\n",
    "\n",
    "    while xy>0:\n",
    "        fill(student,row,col)\n",
    "        if solve(student):\n",
    "            xy=-1\n",
    "            return True\n",
    "            break\n",
    "                        \n",
    "        else:\n",
    "            Fill(student,row,col)\n",
    "    else:\n",
    "        return False"
   ]
  },
  {
   "cell_type": "code",
   "execution_count": 28,
   "metadata": {},
   "outputs": [
    {
     "ename": "RecursionError",
     "evalue": "maximum recursion depth exceeded in comparison",
     "output_type": "error",
     "traceback": [
      "\u001b[1;31m---------------------------------------------------------------------------\u001b[0m",
      "\u001b[1;31mRecursionError\u001b[0m                            Traceback (most recent call last)",
      "\u001b[1;32m<ipython-input-28-ef317867843d>\u001b[0m in \u001b[0;36m<module>\u001b[1;34m\u001b[0m\n\u001b[1;32m----> 1\u001b[1;33m \u001b[0msolve\u001b[0m\u001b[1;33m(\u001b[0m\u001b[0mF12\u001b[0m\u001b[1;33m)\u001b[0m\u001b[1;33m\u001b[0m\u001b[1;33m\u001b[0m\u001b[0m\n\u001b[0m",
      "\u001b[1;32m<ipython-input-25-48f55611a24a>\u001b[0m in \u001b[0;36msolve\u001b[1;34m(student)\u001b[0m\n\u001b[0;32m     10\u001b[0m     \u001b[1;32mwhile\u001b[0m \u001b[0mxy\u001b[0m\u001b[1;33m>\u001b[0m\u001b[1;36m0\u001b[0m\u001b[1;33m:\u001b[0m\u001b[1;33m\u001b[0m\u001b[1;33m\u001b[0m\u001b[0m\n\u001b[0;32m     11\u001b[0m         \u001b[0mfill\u001b[0m\u001b[1;33m(\u001b[0m\u001b[0mstudent\u001b[0m\u001b[1;33m,\u001b[0m\u001b[0mrow\u001b[0m\u001b[1;33m,\u001b[0m\u001b[0mcol\u001b[0m\u001b[1;33m)\u001b[0m\u001b[1;33m\u001b[0m\u001b[1;33m\u001b[0m\u001b[0m\n\u001b[1;32m---> 12\u001b[1;33m         \u001b[1;32mif\u001b[0m \u001b[0msolve\u001b[0m\u001b[1;33m(\u001b[0m\u001b[0mstudent\u001b[0m\u001b[1;33m)\u001b[0m\u001b[1;33m:\u001b[0m\u001b[1;33m\u001b[0m\u001b[1;33m\u001b[0m\u001b[0m\n\u001b[0m\u001b[0;32m     13\u001b[0m             \u001b[0mxy\u001b[0m\u001b[1;33m=\u001b[0m\u001b[1;33m-\u001b[0m\u001b[1;36m1\u001b[0m\u001b[1;33m\u001b[0m\u001b[1;33m\u001b[0m\u001b[0m\n\u001b[0;32m     14\u001b[0m             \u001b[1;32mreturn\u001b[0m \u001b[1;32mTrue\u001b[0m\u001b[1;33m\u001b[0m\u001b[1;33m\u001b[0m\u001b[0m\n",
      "... last 1 frames repeated, from the frame below ...\n",
      "\u001b[1;32m<ipython-input-25-48f55611a24a>\u001b[0m in \u001b[0;36msolve\u001b[1;34m(student)\u001b[0m\n\u001b[0;32m     10\u001b[0m     \u001b[1;32mwhile\u001b[0m \u001b[0mxy\u001b[0m\u001b[1;33m>\u001b[0m\u001b[1;36m0\u001b[0m\u001b[1;33m:\u001b[0m\u001b[1;33m\u001b[0m\u001b[1;33m\u001b[0m\u001b[0m\n\u001b[0;32m     11\u001b[0m         \u001b[0mfill\u001b[0m\u001b[1;33m(\u001b[0m\u001b[0mstudent\u001b[0m\u001b[1;33m,\u001b[0m\u001b[0mrow\u001b[0m\u001b[1;33m,\u001b[0m\u001b[0mcol\u001b[0m\u001b[1;33m)\u001b[0m\u001b[1;33m\u001b[0m\u001b[1;33m\u001b[0m\u001b[0m\n\u001b[1;32m---> 12\u001b[1;33m         \u001b[1;32mif\u001b[0m \u001b[0msolve\u001b[0m\u001b[1;33m(\u001b[0m\u001b[0mstudent\u001b[0m\u001b[1;33m)\u001b[0m\u001b[1;33m:\u001b[0m\u001b[1;33m\u001b[0m\u001b[1;33m\u001b[0m\u001b[0m\n\u001b[0m\u001b[0;32m     13\u001b[0m             \u001b[0mxy\u001b[0m\u001b[1;33m=\u001b[0m\u001b[1;33m-\u001b[0m\u001b[1;36m1\u001b[0m\u001b[1;33m\u001b[0m\u001b[1;33m\u001b[0m\u001b[0m\n\u001b[0;32m     14\u001b[0m             \u001b[1;32mreturn\u001b[0m \u001b[1;32mTrue\u001b[0m\u001b[1;33m\u001b[0m\u001b[1;33m\u001b[0m\u001b[0m\n",
      "\u001b[1;31mRecursionError\u001b[0m: maximum recursion depth exceeded in comparison"
     ]
    }
   ],
   "source": [
    "solve(F12)"
   ]
  },
  {
   "cell_type": "code",
   "execution_count": 29,
   "metadata": {},
   "outputs": [
    {
     "data": {
      "text/plain": [
       "[['Zero', '1', '2', '3', '4', '5', '6', '7', '8'],\n",
       " ['Monday', 'ENG', 'CHY', 'CHY', 'ENG', 'CS', 'MATH', 'MATH', 'CS'],\n",
       " ['Tuesday', 'PHY', 'CS', 'MATH', 'MATH', 'ENG', 'CS', 'ENG', 'CHY'],\n",
       " ['Wednesday', 'ENG', 'PHY', 'PHY', 'ENG', 'CS', 'CHY', 'CHY', 'CS'],\n",
       " ['Thursday', 'MATH', 'PHY', 'CHY', 'MATH', 'CHY', 'ENG', 'ENG', 'CS'],\n",
       " ['Friday', 'MATH', 'PHY', 'MATH', 'PHY', 'CHY', 'CS', 'ENG', 'PHY']]"
      ]
     },
     "execution_count": 29,
     "metadata": {},
     "output_type": "execute_result"
    }
   ],
   "source": [
    "F12.stt"
   ]
  },
  {
   "cell_type": "code",
   "execution_count": 40,
   "metadata": {},
   "outputs": [
    {
     "data": {
      "text/plain": [
       "[['Zero', '1', '2', '3', '4', '5', '6', '7', '8'],\n",
       " ['Monday', 'PHY', 'CHY', 'PHY', 'ENG', 'CS', 'ENG', 'CS', 'MATH'],\n",
       " ['Tuesday', 'PHY', 'PHY', 'MATH', 'CS', 'ENG', 'CS', 'MATH', 'CHY'],\n",
       " ['Wednesday', 'MATH', 'ENG', 'CHY', 'MATH', 'CHY', 'ENG', 'CS', 'CS'],\n",
       " ['Thursday', 'CS', 'PHY', 'MATH', 'CHY', 'MATH', 'CHY', 'ENG', 'ENG'],\n",
       " ['Friday', 'CHY', 'CHY', 'PHY', 'MATH', 'ENG', 'PHY', 'CHY', 'PHY']]"
      ]
     },
     "execution_count": 40,
     "metadata": {},
     "output_type": "execute_result"
    }
   ],
   "source": [
    "D12.stt"
   ]
  },
  {
   "cell_type": "code",
   "execution_count": 46,
   "metadata": {},
   "outputs": [
    {
     "ename": "RecursionError",
     "evalue": "maximum recursion depth exceeded in comparison",
     "output_type": "error",
     "traceback": [
      "\u001b[1;31m---------------------------------------------------------------------------\u001b[0m",
      "\u001b[1;31mRecursionError\u001b[0m                            Traceback (most recent call last)",
      "\u001b[1;32m<ipython-input-46-ef317867843d>\u001b[0m in \u001b[0;36m<module>\u001b[1;34m\u001b[0m\n\u001b[1;32m----> 1\u001b[1;33m \u001b[0msolve\u001b[0m\u001b[1;33m(\u001b[0m\u001b[0mF12\u001b[0m\u001b[1;33m)\u001b[0m\u001b[1;33m\u001b[0m\u001b[1;33m\u001b[0m\u001b[0m\n\u001b[0m",
      "\u001b[1;32m<ipython-input-36-48f55611a24a>\u001b[0m in \u001b[0;36msolve\u001b[1;34m(student)\u001b[0m\n\u001b[0;32m     10\u001b[0m     \u001b[1;32mwhile\u001b[0m \u001b[0mxy\u001b[0m\u001b[1;33m>\u001b[0m\u001b[1;36m0\u001b[0m\u001b[1;33m:\u001b[0m\u001b[1;33m\u001b[0m\u001b[1;33m\u001b[0m\u001b[0m\n\u001b[0;32m     11\u001b[0m         \u001b[0mfill\u001b[0m\u001b[1;33m(\u001b[0m\u001b[0mstudent\u001b[0m\u001b[1;33m,\u001b[0m\u001b[0mrow\u001b[0m\u001b[1;33m,\u001b[0m\u001b[0mcol\u001b[0m\u001b[1;33m)\u001b[0m\u001b[1;33m\u001b[0m\u001b[1;33m\u001b[0m\u001b[0m\n\u001b[1;32m---> 12\u001b[1;33m         \u001b[1;32mif\u001b[0m \u001b[0msolve\u001b[0m\u001b[1;33m(\u001b[0m\u001b[0mstudent\u001b[0m\u001b[1;33m)\u001b[0m\u001b[1;33m:\u001b[0m\u001b[1;33m\u001b[0m\u001b[1;33m\u001b[0m\u001b[0m\n\u001b[0m\u001b[0;32m     13\u001b[0m             \u001b[0mxy\u001b[0m\u001b[1;33m=\u001b[0m\u001b[1;33m-\u001b[0m\u001b[1;36m1\u001b[0m\u001b[1;33m\u001b[0m\u001b[1;33m\u001b[0m\u001b[0m\n\u001b[0;32m     14\u001b[0m             \u001b[1;32mreturn\u001b[0m \u001b[1;32mTrue\u001b[0m\u001b[1;33m\u001b[0m\u001b[1;33m\u001b[0m\u001b[0m\n",
      "... last 1 frames repeated, from the frame below ...\n",
      "\u001b[1;32m<ipython-input-36-48f55611a24a>\u001b[0m in \u001b[0;36msolve\u001b[1;34m(student)\u001b[0m\n\u001b[0;32m     10\u001b[0m     \u001b[1;32mwhile\u001b[0m \u001b[0mxy\u001b[0m\u001b[1;33m>\u001b[0m\u001b[1;36m0\u001b[0m\u001b[1;33m:\u001b[0m\u001b[1;33m\u001b[0m\u001b[1;33m\u001b[0m\u001b[0m\n\u001b[0;32m     11\u001b[0m         \u001b[0mfill\u001b[0m\u001b[1;33m(\u001b[0m\u001b[0mstudent\u001b[0m\u001b[1;33m,\u001b[0m\u001b[0mrow\u001b[0m\u001b[1;33m,\u001b[0m\u001b[0mcol\u001b[0m\u001b[1;33m)\u001b[0m\u001b[1;33m\u001b[0m\u001b[1;33m\u001b[0m\u001b[0m\n\u001b[1;32m---> 12\u001b[1;33m         \u001b[1;32mif\u001b[0m \u001b[0msolve\u001b[0m\u001b[1;33m(\u001b[0m\u001b[0mstudent\u001b[0m\u001b[1;33m)\u001b[0m\u001b[1;33m:\u001b[0m\u001b[1;33m\u001b[0m\u001b[1;33m\u001b[0m\u001b[0m\n\u001b[0m\u001b[0;32m     13\u001b[0m             \u001b[0mxy\u001b[0m\u001b[1;33m=\u001b[0m\u001b[1;33m-\u001b[0m\u001b[1;36m1\u001b[0m\u001b[1;33m\u001b[0m\u001b[1;33m\u001b[0m\u001b[0m\n\u001b[0;32m     14\u001b[0m             \u001b[1;32mreturn\u001b[0m \u001b[1;32mTrue\u001b[0m\u001b[1;33m\u001b[0m\u001b[1;33m\u001b[0m\u001b[0m\n",
      "\u001b[1;31mRecursionError\u001b[0m: maximum recursion depth exceeded in comparison"
     ]
    }
   ],
   "source": [
    "solve(F12)"
   ]
  },
  {
   "cell_type": "code",
   "execution_count": 47,
   "metadata": {},
   "outputs": [
    {
     "data": {
      "text/plain": [
       "[['Zero', '1', '2', '3', '4', '5', '6', '7', '8'],\n",
       " ['Monday', 'ENG', 'MATH', 'CHY', 'MATH', 'ENG', 'CHY', 'PHY', 'CS'],\n",
       " ['Tuesday', 0, 0, 0, 0, 0, 0, 0, 0],\n",
       " ['Wednesday', 0, 0, 0, 0, 0, 0, 0, 0],\n",
       " ['Thursday', 0, 0, 0, 0, 0, 0, 0, 0],\n",
       " ['Friday', 0, 0, 0, 0, 0, 0, 0, 0]]"
      ]
     },
     "execution_count": 47,
     "metadata": {},
     "output_type": "execute_result"
    }
   ],
   "source": [
    "F12.stt"
   ]
  },
  {
   "cell_type": "code",
   "execution_count": null,
   "metadata": {},
   "outputs": [],
   "source": [
    "A12.stt"
   ]
  },
  {
   "cell_type": "code",
   "execution_count": 124,
   "metadata": {},
   "outputs": [
    {
     "data": {
      "text/plain": [
       "[['Zero', '1', '2', '3', '4', '5', '6', '7', '8'],\n",
       " ['Monday', 'ECO', 'PE', 'ENG', 'ENG', 'BST', 'BST', 'ECO', 'ACC'],\n",
       " ['Tuesday', 'PE', 'BST', 'PE', 'ECO', 'ACC', 'BST', 'ACC', 'ECO'],\n",
       " ['Wednesday', 'ENG', 'BST', 'ECO', 'PE', 'ENG', 'ACC', 'PE', 'BST'],\n",
       " ['Thursday', 'ACC', 'BST', 'ENG', 'PE', 'ACC', 'ENG', 'BST', 'ECO'],\n",
       " ['Friday', 'ACC', 'ECO', 'ECO', 'PE', 'PE', 'ACC', 'ENG', 'ENG']]"
      ]
     },
     "execution_count": 124,
     "metadata": {},
     "output_type": "execute_result"
    }
   ],
   "source": [
    "B12.stt"
   ]
  },
  {
   "cell_type": "code",
   "execution_count": 127,
   "metadata": {},
   "outputs": [
    {
     "ename": "RecursionError",
     "evalue": "maximum recursion depth exceeded in comparison",
     "output_type": "error",
     "traceback": [
      "\u001b[1;31m---------------------------------------------------------------------------\u001b[0m",
      "\u001b[1;31mRecursionError\u001b[0m                            Traceback (most recent call last)",
      "\u001b[1;32m<ipython-input-127-faa78c0042a0>\u001b[0m in \u001b[0;36m<module>\u001b[1;34m\u001b[0m\n\u001b[0;32m      1\u001b[0m \u001b[1;32mfor\u001b[0m \u001b[0mi\u001b[0m \u001b[1;32min\u001b[0m \u001b[0mFCL\u001b[0m\u001b[1;33m:\u001b[0m\u001b[1;33m\u001b[0m\u001b[1;33m\u001b[0m\u001b[0m\n\u001b[1;32m----> 2\u001b[1;33m     \u001b[0msolve\u001b[0m\u001b[1;33m(\u001b[0m\u001b[0mi\u001b[0m\u001b[1;33m)\u001b[0m\u001b[1;33m\u001b[0m\u001b[1;33m\u001b[0m\u001b[0m\n\u001b[0m\u001b[0;32m      3\u001b[0m \u001b[1;33m\u001b[0m\u001b[0m\n\u001b[0;32m      4\u001b[0m \u001b[1;32mfor\u001b[0m \u001b[0mj\u001b[0m \u001b[1;32min\u001b[0m \u001b[0mFCL\u001b[0m\u001b[1;33m:\u001b[0m\u001b[1;33m\u001b[0m\u001b[1;33m\u001b[0m\u001b[0m\n\u001b[0;32m      5\u001b[0m     \u001b[0mprint\u001b[0m\u001b[1;33m(\u001b[0m\u001b[0mj\u001b[0m\u001b[1;33m.\u001b[0m\u001b[0mstt\u001b[0m\u001b[1;33m)\u001b[0m\u001b[1;33m\u001b[0m\u001b[1;33m\u001b[0m\u001b[0m\n",
      "\u001b[1;32m<ipython-input-120-5aea0db6772e>\u001b[0m in \u001b[0;36msolve\u001b[1;34m(student)\u001b[0m\n\u001b[0;32m     11\u001b[0m         \u001b[0mfill\u001b[0m\u001b[1;33m(\u001b[0m\u001b[0mstudent\u001b[0m\u001b[1;33m,\u001b[0m\u001b[0mrow\u001b[0m\u001b[1;33m,\u001b[0m\u001b[0mcol\u001b[0m\u001b[1;33m)\u001b[0m \u001b[1;31m#\u001b[0m\u001b[1;33m\u001b[0m\u001b[1;33m\u001b[0m\u001b[0m\n\u001b[0;32m     12\u001b[0m \u001b[1;33m\u001b[0m\u001b[0m\n\u001b[1;32m---> 13\u001b[1;33m         \u001b[1;32mif\u001b[0m \u001b[0msolve\u001b[0m\u001b[1;33m(\u001b[0m\u001b[0mstudent\u001b[0m\u001b[1;33m)\u001b[0m\u001b[1;33m:\u001b[0m\u001b[1;33m\u001b[0m\u001b[1;33m\u001b[0m\u001b[0m\n\u001b[0m\u001b[0;32m     14\u001b[0m             \u001b[0mxy\u001b[0m\u001b[1;33m=\u001b[0m\u001b[1;33m-\u001b[0m\u001b[1;36m1\u001b[0m\u001b[1;33m\u001b[0m\u001b[1;33m\u001b[0m\u001b[0m\n\u001b[0;32m     15\u001b[0m             \u001b[1;32mreturn\u001b[0m \u001b[1;32mTrue\u001b[0m\u001b[1;33m\u001b[0m\u001b[1;33m\u001b[0m\u001b[0m\n",
      "... last 1 frames repeated, from the frame below ...\n",
      "\u001b[1;32m<ipython-input-120-5aea0db6772e>\u001b[0m in \u001b[0;36msolve\u001b[1;34m(student)\u001b[0m\n\u001b[0;32m     11\u001b[0m         \u001b[0mfill\u001b[0m\u001b[1;33m(\u001b[0m\u001b[0mstudent\u001b[0m\u001b[1;33m,\u001b[0m\u001b[0mrow\u001b[0m\u001b[1;33m,\u001b[0m\u001b[0mcol\u001b[0m\u001b[1;33m)\u001b[0m \u001b[1;31m#\u001b[0m\u001b[1;33m\u001b[0m\u001b[1;33m\u001b[0m\u001b[0m\n\u001b[0;32m     12\u001b[0m \u001b[1;33m\u001b[0m\u001b[0m\n\u001b[1;32m---> 13\u001b[1;33m         \u001b[1;32mif\u001b[0m \u001b[0msolve\u001b[0m\u001b[1;33m(\u001b[0m\u001b[0mstudent\u001b[0m\u001b[1;33m)\u001b[0m\u001b[1;33m:\u001b[0m\u001b[1;33m\u001b[0m\u001b[1;33m\u001b[0m\u001b[0m\n\u001b[0m\u001b[0;32m     14\u001b[0m             \u001b[0mxy\u001b[0m\u001b[1;33m=\u001b[0m\u001b[1;33m-\u001b[0m\u001b[1;36m1\u001b[0m\u001b[1;33m\u001b[0m\u001b[1;33m\u001b[0m\u001b[0m\n\u001b[0;32m     15\u001b[0m             \u001b[1;32mreturn\u001b[0m \u001b[1;32mTrue\u001b[0m\u001b[1;33m\u001b[0m\u001b[1;33m\u001b[0m\u001b[0m\n",
      "\u001b[1;31mRecursionError\u001b[0m: maximum recursion depth exceeded in comparison"
     ]
    }
   ],
   "source": [
    "for i in FCL:\n",
    "    solve(i)\n",
    "    \n",
    "for j in FCL:\n",
    "    print(j.stt)"
   ]
  },
  {
   "cell_type": "code",
   "execution_count": 78,
   "metadata": {},
   "outputs": [
    {
     "ename": "KeyboardInterrupt",
     "evalue": "",
     "output_type": "error",
     "traceback": [
      "\u001b[1;31m---------------------------------------------------------------------------\u001b[0m",
      "\u001b[1;31mKeyboardInterrupt\u001b[0m                         Traceback (most recent call last)",
      "\u001b[1;32m<ipython-input-78-e145ea58fcde>\u001b[0m in \u001b[0;36m<module>\u001b[1;34m\u001b[0m\n\u001b[1;32m----> 1\u001b[1;33m \u001b[1;32mwhile\u001b[0m \u001b[0misEmpty\u001b[0m\u001b[1;33m(\u001b[0m\u001b[0mF12\u001b[0m\u001b[1;33m)\u001b[0m \u001b[1;32mis\u001b[0m \u001b[1;32mFalse\u001b[0m\u001b[1;33m:\u001b[0m\u001b[1;33m\u001b[0m\u001b[1;33m\u001b[0m\u001b[0m\n\u001b[0m\u001b[0;32m      2\u001b[0m     \u001b[0mfill\u001b[0m\u001b[1;33m(\u001b[0m\u001b[0mF12\u001b[0m\u001b[1;33m)\u001b[0m\u001b[1;33m\u001b[0m\u001b[1;33m\u001b[0m\u001b[0m\n",
      "\u001b[1;32m<ipython-input-57-9f9e5fd9bbed>\u001b[0m in \u001b[0;36misEmpty\u001b[1;34m(person)\u001b[0m\n\u001b[0;32m     16\u001b[0m     \u001b[1;32mfor\u001b[0m \u001b[0mi\u001b[0m \u001b[1;32min\u001b[0m \u001b[0mrange\u001b[0m\u001b[1;33m(\u001b[0m\u001b[1;36m1\u001b[0m\u001b[1;33m,\u001b[0m\u001b[1;36m6\u001b[0m\u001b[1;33m)\u001b[0m\u001b[1;33m:\u001b[0m\u001b[1;33m\u001b[0m\u001b[1;33m\u001b[0m\u001b[0m\n\u001b[0;32m     17\u001b[0m         \u001b[1;32mfor\u001b[0m \u001b[0mj\u001b[0m \u001b[1;32min\u001b[0m \u001b[0mrange\u001b[0m\u001b[1;33m(\u001b[0m\u001b[1;36m1\u001b[0m\u001b[1;33m,\u001b[0m\u001b[1;36m9\u001b[0m\u001b[1;33m)\u001b[0m\u001b[1;33m:\u001b[0m\u001b[1;33m\u001b[0m\u001b[1;33m\u001b[0m\u001b[0m\n\u001b[1;32m---> 18\u001b[1;33m             \u001b[1;32mif\u001b[0m \u001b[0mtt\u001b[0m\u001b[1;33m[\u001b[0m\u001b[0mi\u001b[0m\u001b[1;33m]\u001b[0m\u001b[1;33m[\u001b[0m\u001b[0mj\u001b[0m\u001b[1;33m]\u001b[0m\u001b[1;33m==\u001b[0m\u001b[1;36m0\u001b[0m\u001b[1;33m:\u001b[0m\u001b[1;33m\u001b[0m\u001b[1;33m\u001b[0m\u001b[0m\n\u001b[0m\u001b[0;32m     19\u001b[0m                 \u001b[1;32mreturn\u001b[0m \u001b[1;32mFalse\u001b[0m\u001b[1;33m\u001b[0m\u001b[1;33m\u001b[0m\u001b[0m\n\u001b[0;32m     20\u001b[0m     \u001b[1;32melse\u001b[0m\u001b[1;33m:\u001b[0m\u001b[1;33m\u001b[0m\u001b[1;33m\u001b[0m\u001b[0m\n",
      "\u001b[1;31mKeyboardInterrupt\u001b[0m: "
     ]
    }
   ],
   "source": [
    "while isEmpty(F12) is False:\n",
    "    fill(F12)"
   ]
  },
  {
   "cell_type": "code",
   "execution_count": 43,
   "metadata": {},
   "outputs": [
    {
     "data": {
      "text/plain": [
       "True"
      ]
     },
     "execution_count": 43,
     "metadata": {},
     "output_type": "execute_result"
    }
   ],
   "source": [
    "TTvalid(findteacher(\"ACC01\"))"
   ]
  },
  {
   "cell_type": "code",
   "execution_count": 306,
   "metadata": {},
   "outputs": [],
   "source": [
    "def solve(student):  #For backtracking\n",
    "    find=isEmpty(student)\n",
    "    if not find:\n",
    "        return True\n",
    "    else:\n",
    "        pass\n",
    "    fill(student)  \n",
    "    solve(student)"
   ]
  },
  {
   "cell_type": "code",
   "execution_count": 126,
   "metadata": {},
   "outputs": [
    {
     "data": {
      "text/plain": [
       "[['Zero', '1', '2', '3', '4', '5', '6', '7', '8'],\n",
       " ['Monday', 'ACC', 'ENG', 'BST', 'BST', 'ACC', 'ECO', 'MATH', 'MATH'],\n",
       " ['Tuesday', 'MATH', 'ENG', 'BST', 'ENG', 'ECO', 'ACC', 'MATH', 'ACC'],\n",
       " ['Wednesday', 'MATH', 'ECO', 'ACC', 'ECO', 'ENG', 'MATH', 'BST', 'BST'],\n",
       " ['Thursday', 'ENG', 'ENG', 'BST', 'ECO', 'ECO', 'BST', 'ACC', 'ACC'],\n",
       " ['Friday', 'BST', 'ENG', 'ACC', 'ECO', 'ENG', 'ECO', 'MATH', 'MATH']]"
      ]
     },
     "execution_count": 126,
     "metadata": {},
     "output_type": "execute_result"
    }
   ],
   "source": [
    "C12.stt"
   ]
  },
  {
   "cell_type": "code",
   "execution_count": 31,
   "metadata": {},
   "outputs": [
    {
     "data": {
      "text/plain": [
       "[['Zero', '1', '2', '3', '4', '5', '6', '7', '8'],\n",
       " ['Monday', 'ENG', 'ENG', 'CHY', 'MATH', 'PHY', 'PHY', 'CHY', 'MATH'],\n",
       " ['Tuesday', 'MATH', 'CHY', 'CHY', 'ENG', 'PHY', 'CS', 'MATH', 'CS'],\n",
       " ['Wednesday', 'CHY', 'CS', 'ENG', 'ENG', 'MATH', 'MATH', 'CHY', 'PHY'],\n",
       " ['Thursday', 'ENG', 'CHY', 'CS', 'CHY', 'ENG', 'MATH', 'MATH', 'CS'],\n",
       " ['Friday', 'CS', 'ENG', 'CS', 'PHY', 'PHY', 'CS', 0, 0]]"
      ]
     },
     "execution_count": 31,
     "metadata": {},
     "output_type": "execute_result"
    }
   ],
   "source": [
    "D12.stt"
   ]
  },
  {
   "cell_type": "code",
   "execution_count": 39,
   "metadata": {},
   "outputs": [
    {
     "data": {
      "text/plain": [
       "[['Zero', '1', '2', '3', '4', '5', '6', '7', '8'],\n",
       " ['Monday', 'MATH', 'CS', 'MATH', 'CHY', 'CHY', 'ENG', 'PHY', 'ENG'],\n",
       " ['Tuesday', 'CHY', 'PHY', 'ENG', 'CHY', 'MATH', 'ENG', 'CHY', 'CHY'],\n",
       " ['Wednesday', 'ENG', 0, 0, 0, 0, 0, 0, 0],\n",
       " ['Thursday', 0, 0, 0, 0, 0, 0, 0, 0],\n",
       " ['Friday', 0, 0, 0, 0, 0, 0, 0, 0]]"
      ]
     },
     "execution_count": 39,
     "metadata": {},
     "output_type": "execute_result"
    }
   ],
   "source": [
    "E12.stt"
   ]
  },
  {
   "cell_type": "code",
   "execution_count": 38,
   "metadata": {},
   "outputs": [
    {
     "ename": "RecursionError",
     "evalue": "maximum recursion depth exceeded in comparison",
     "output_type": "error",
     "traceback": [
      "\u001b[1;31m---------------------------------------------------------------------------\u001b[0m",
      "\u001b[1;31mRecursionError\u001b[0m                            Traceback (most recent call last)",
      "\u001b[1;32m<ipython-input-38-1d8b98112ef9>\u001b[0m in \u001b[0;36m<module>\u001b[1;34m\u001b[0m\n\u001b[1;32m----> 1\u001b[1;33m \u001b[0msolve\u001b[0m\u001b[1;33m(\u001b[0m\u001b[0mE12\u001b[0m\u001b[1;33m)\u001b[0m\u001b[1;33m\u001b[0m\u001b[1;33m\u001b[0m\u001b[0m\n\u001b[0m",
      "\u001b[1;32m<ipython-input-25-5aea0db6772e>\u001b[0m in \u001b[0;36msolve\u001b[1;34m(student)\u001b[0m\n\u001b[0;32m     11\u001b[0m         \u001b[0mfill\u001b[0m\u001b[1;33m(\u001b[0m\u001b[0mstudent\u001b[0m\u001b[1;33m,\u001b[0m\u001b[0mrow\u001b[0m\u001b[1;33m,\u001b[0m\u001b[0mcol\u001b[0m\u001b[1;33m)\u001b[0m \u001b[1;31m#\u001b[0m\u001b[1;33m\u001b[0m\u001b[1;33m\u001b[0m\u001b[0m\n\u001b[0;32m     12\u001b[0m \u001b[1;33m\u001b[0m\u001b[0m\n\u001b[1;32m---> 13\u001b[1;33m         \u001b[1;32mif\u001b[0m \u001b[0msolve\u001b[0m\u001b[1;33m(\u001b[0m\u001b[0mstudent\u001b[0m\u001b[1;33m)\u001b[0m\u001b[1;33m:\u001b[0m\u001b[1;33m\u001b[0m\u001b[1;33m\u001b[0m\u001b[0m\n\u001b[0m\u001b[0;32m     14\u001b[0m             \u001b[0mxy\u001b[0m\u001b[1;33m=\u001b[0m\u001b[1;33m-\u001b[0m\u001b[1;36m1\u001b[0m\u001b[1;33m\u001b[0m\u001b[1;33m\u001b[0m\u001b[0m\n\u001b[0;32m     15\u001b[0m             \u001b[1;32mreturn\u001b[0m \u001b[1;32mTrue\u001b[0m\u001b[1;33m\u001b[0m\u001b[1;33m\u001b[0m\u001b[0m\n",
      "... last 1 frames repeated, from the frame below ...\n",
      "\u001b[1;32m<ipython-input-25-5aea0db6772e>\u001b[0m in \u001b[0;36msolve\u001b[1;34m(student)\u001b[0m\n\u001b[0;32m     11\u001b[0m         \u001b[0mfill\u001b[0m\u001b[1;33m(\u001b[0m\u001b[0mstudent\u001b[0m\u001b[1;33m,\u001b[0m\u001b[0mrow\u001b[0m\u001b[1;33m,\u001b[0m\u001b[0mcol\u001b[0m\u001b[1;33m)\u001b[0m \u001b[1;31m#\u001b[0m\u001b[1;33m\u001b[0m\u001b[1;33m\u001b[0m\u001b[0m\n\u001b[0;32m     12\u001b[0m \u001b[1;33m\u001b[0m\u001b[0m\n\u001b[1;32m---> 13\u001b[1;33m         \u001b[1;32mif\u001b[0m \u001b[0msolve\u001b[0m\u001b[1;33m(\u001b[0m\u001b[0mstudent\u001b[0m\u001b[1;33m)\u001b[0m\u001b[1;33m:\u001b[0m\u001b[1;33m\u001b[0m\u001b[1;33m\u001b[0m\u001b[0m\n\u001b[0m\u001b[0;32m     14\u001b[0m             \u001b[0mxy\u001b[0m\u001b[1;33m=\u001b[0m\u001b[1;33m-\u001b[0m\u001b[1;36m1\u001b[0m\u001b[1;33m\u001b[0m\u001b[1;33m\u001b[0m\u001b[0m\n\u001b[0;32m     15\u001b[0m             \u001b[1;32mreturn\u001b[0m \u001b[1;32mTrue\u001b[0m\u001b[1;33m\u001b[0m\u001b[1;33m\u001b[0m\u001b[0m\n",
      "\u001b[1;31mRecursionError\u001b[0m: maximum recursion depth exceeded in comparison"
     ]
    }
   ],
   "source": [
    "solve(E12)"
   ]
  },
  {
   "cell_type": "code",
   "execution_count": 48,
   "metadata": {},
   "outputs": [
    {
     "name": "stdout",
     "output_type": "stream",
     "text": [
      "Jyoti Sharma\n",
      "['Zero', '1', '2', '3', '4', '5', '6', '7', '8']\n",
      "['Monday', 0, 0, 'XII-E', 'XII-E', 0, 0, 0, 0]\n",
      "['Tuesday', 0, 0, 0, 0, 0, 0, 'XII-E', 'XII-E']\n",
      "['Wednesday', 0, 'XII-E', 0, 0, 'XII-E', 0, 0, 0]\n",
      "['Thursday', 0, 'XII-E', 0, 0, 'XII-E', 0, 0, 0]\n",
      "['Friday', 0, 0, 0, 0, 0, 0, 0, 0]\n",
      "\n",
      "\n",
      "Jigyasa Jain\n",
      "['Zero', '1', '2', '3', '4', '5', '6', '7', '8']\n",
      "['Monday', 0, 'XII-D', 'XII-F', 0, 0, 'XII-F', 0, 0]\n",
      "['Tuesday', 0, 0, 0, 0, 0, 0, 0, 'XII-D']\n",
      "['Wednesday', 0, 0, 'XII-D', 0, 'XII-D', 0, 0, 0]\n",
      "['Thursday', 0, 0, 0, 'XII-D', 0, 'XII-D', 0, 0]\n",
      "['Friday', 'XII-D', 'XII-D', 0, 0, 0, 0, 'XII-D', 0]\n",
      "\n",
      "\n",
      "Vinod Verma\n",
      "['Zero', '1', '2', '3', '4', '5', '6', '7', '8']\n",
      "['Monday', 0, 0, 0, 0, 0, 0, 'XII-E', 'XII-D']\n",
      "['Tuesday', 0, 0, 'XII-D', 0, 'XII-E', 0, 'XII-D', 0]\n",
      "['Wednesday', 'XII-D', 0, 0, 'XII-D', 0, 0, 0, 0]\n",
      "['Thursday', 0, 0, 'XII-D', 0, 'XII-D', 'XII-E', 0, 0]\n",
      "['Friday', 0, 'XII-E', 'XII-E', 'XII-D', 0, 0, 0, 0]\n",
      "\n",
      "\n",
      "Pallavi Aggarwal\n",
      "['Zero', '1', '2', '3', '4', '5', '6', '7', '8']\n",
      "['Monday', 0, 'XII-F', 0, 'XII-F', 0, 0, 0, 0]\n",
      "['Tuesday', 0, 0, 0, 0, 0, 0, 0, 0]\n",
      "['Wednesday', 0, 0, 0, 0, 0, 0, 0, 0]\n",
      "['Thursday', 0, 0, 0, 0, 0, 0, 0, 0]\n",
      "['Friday', 0, 0, 0, 0, 0, 0, 0, 0]\n",
      "\n",
      "\n",
      "Anubha\n",
      "['Zero', '1', '2', '3', '4', '5', '6', '7', '8']\n",
      "['Monday', 0, 0, 0, 0, 0, 0, 0, 0]\n",
      "['Tuesday', 0, 0, 0, 0, 0, 0, 0, 0]\n",
      "['Wednesday', 0, 0, 0, 0, 0, 0, 0, 0]\n",
      "['Thursday', 0, 0, 0, 0, 0, 0, 0, 0]\n",
      "['Friday', 0, 0, 0, 0, 0, 0, 0, 0]\n",
      "\n",
      "\n",
      "Amit Tomar\n",
      "['Zero', '1', '2', '3', '4', '5', '6', '7', '8']\n",
      "['Monday', 'XII-D', 0, 'XII-D', 0, 0, 0, 'XII-F', 0]\n",
      "['Tuesday', 'XII-D', 'XII-D', 0, 0, 0, 'XII-E', 0, 0]\n",
      "['Wednesday', 0, 0, 'XII-E', 0, 0, 0, 'XII-E', 0]\n",
      "['Thursday', 'XII-E', 'XII-D', 0, 'XII-E', 0, 0, 0, 0]\n",
      "['Friday', 0, 0, 'XII-D', 'XII-E', 'XII-E', 'XII-D', 'XII-E', 'XII-D']\n",
      "\n",
      "\n",
      "Ansara Banu\n",
      "['Zero', '1', '2', '3', '4', '5', '6', '7', '8']\n",
      "['Monday', 'XII-E', 'XII-E', 0, 0, 'XII-D', 0, 'XII-D', 'XII-F']\n",
      "['Tuesday', 'XII-E', 'XII-E', 0, 'XII-D', 0, 'XII-D', 0, 0]\n",
      "['Wednesday', 'XII-E', 0, 0, 0, 0, 'XII-E', 'XII-D', 'XII-D']\n",
      "['Thursday', 'XII-D', 0, 0, 0, 0, 0, 0, 'XII-E']\n",
      "['Friday', 'XII-E', 0, 0, 0, 0, 'XII-E', 0, 0]\n",
      "\n",
      "\n",
      "Vishal Dhingra\n",
      "['Zero', '1', '2', '3', '4', '5', '6', '7', '8']\n",
      "['Monday', 0, 0, 0, 0, 0, 0, 0, 0]\n",
      "['Tuesday', 0, 0, 0, 0, 0, 0, 0, 0]\n",
      "['Wednesday', 0, 0, 0, 0, 0, 0, 0, 0]\n",
      "['Thursday', 0, 0, 0, 0, 0, 0, 0, 0]\n",
      "['Friday', 0, 0, 0, 0, 0, 0, 0, 0]\n",
      "\n",
      "\n",
      "Sakshi\n",
      "['Zero', '1', '2', '3', '4', '5', '6', '7', '8']\n",
      "['Monday', 0, 0, 0, 0, 0, 0, 0, 0]\n",
      "['Tuesday', 0, 0, 0, 0, 0, 0, 0, 0]\n",
      "['Wednesday', 0, 0, 0, 0, 0, 0, 0, 0]\n",
      "['Thursday', 0, 0, 0, 0, 0, 0, 0, 0]\n",
      "['Friday', 0, 0, 0, 0, 0, 0, 0, 0]\n",
      "\n",
      "\n",
      "Pooja Gupta\n",
      "['Zero', '1', '2', '3', '4', '5', '6', '7', '8']\n",
      "['Monday', 0, 0, 0, 0, 0, 0, 0, 0]\n",
      "['Tuesday', 0, 0, 0, 0, 0, 0, 0, 0]\n",
      "['Wednesday', 0, 0, 0, 0, 0, 0, 0, 0]\n",
      "['Thursday', 0, 0, 0, 0, 0, 0, 0, 0]\n",
      "['Friday', 0, 0, 0, 0, 0, 0, 0, 0]\n",
      "\n",
      "\n",
      "Neha Gupta\n",
      "['Zero', '1', '2', '3', '4', '5', '6', '7', '8']\n",
      "['Monday', 0, 0, 0, 0, 0, 0, 0, 0]\n",
      "['Tuesday', 0, 0, 0, 0, 0, 0, 0, 0]\n",
      "['Wednesday', 0, 0, 0, 0, 0, 0, 0, 0]\n",
      "['Thursday', 0, 0, 0, 0, 0, 0, 0, 0]\n",
      "['Friday', 0, 0, 0, 0, 0, 0, 0, 0]\n",
      "\n",
      "\n",
      "Sachin Sharma\n",
      "['Zero', '1', '2', '3', '4', '5', '6', '7', '8']\n",
      "['Monday', 0, 0, 0, 0, 0, 0, 0, 0]\n",
      "['Tuesday', 0, 0, 0, 0, 0, 0, 0, 0]\n",
      "['Wednesday', 0, 0, 0, 0, 0, 0, 0, 0]\n",
      "['Thursday', 0, 0, 0, 0, 0, 0, 0, 0]\n",
      "['Friday', 0, 0, 0, 0, 0, 0, 0, 0]\n",
      "\n",
      "\n",
      "Harinder\n",
      "['Zero', '1', '2', '3', '4', '5', '6', '7', '8']\n",
      "['Monday', 0, 0, 0, 0, 0, 0, 0, 0]\n",
      "['Tuesday', 0, 0, 0, 0, 0, 0, 0, 0]\n",
      "['Wednesday', 0, 0, 0, 0, 0, 0, 0, 0]\n",
      "['Thursday', 0, 0, 0, 0, 0, 0, 0, 0]\n",
      "['Friday', 0, 0, 0, 0, 0, 0, 0, 0]\n",
      "\n",
      "\n",
      "Anjali Goswami\n",
      "['Zero', '1', '2', '3', '4', '5', '6', '7', '8']\n",
      "['Monday', 0, 0, 0, 0, 'XII-E', 'XII-E', 0, 0]\n",
      "['Tuesday', 0, 0, 'XII-E', 'XII-E', 0, 0, 0, 0]\n",
      "['Wednesday', 0, 0, 0, 'XII-E', 0, 0, 0, 'XII-E']\n",
      "['Thursday', 0, 0, 'XII-E', 0, 0, 0, 'XII-E', 0]\n",
      "['Friday', 0, 0, 0, 0, 0, 0, 0, 0]\n",
      "\n",
      "\n",
      "Ruchi Jain\n",
      "['Zero', '1', '2', '3', '4', '5', '6', '7', '8']\n",
      "['Monday', 'XII-F', 0, 0, 'XII-D', 'XII-F', 'XII-D', 0, 0]\n",
      "['Tuesday', 0, 0, 0, 0, 'XII-D', 0, 0, 0]\n",
      "['Wednesday', 0, 'XII-D', 0, 0, 0, 'XII-D', 0, 0]\n",
      "['Thursday', 0, 0, 0, 0, 0, 0, 'XII-D', 'XII-D']\n",
      "['Friday', 0, 0, 0, 0, 'XII-D', 0, 0, 0]\n",
      "\n",
      "\n",
      "Akriti Sinha\n",
      "['Zero', '1', '2', '3', '4', '5', '6', '7', '8']\n",
      "['Monday', 0, 0, 0, 0, 0, 0, 0, 0]\n",
      "['Tuesday', 0, 0, 0, 0, 0, 0, 0, 0]\n",
      "['Wednesday', 0, 0, 0, 0, 0, 0, 0, 0]\n",
      "['Thursday', 0, 0, 0, 0, 0, 0, 0, 0]\n",
      "['Friday', 0, 0, 0, 0, 0, 0, 0, 0]\n",
      "\n",
      "\n",
      "Mukesh\n",
      "['Zero', '1', '2', '3', '4', '5', '6', '7', '8']\n",
      "['Monday', 0, 0, 0, 0, 0, 0, 0, 0]\n",
      "['Tuesday', 0, 0, 0, 0, 0, 0, 0, 0]\n",
      "['Wednesday', 0, 0, 0, 0, 0, 0, 0, 0]\n",
      "['Thursday', 0, 0, 0, 0, 0, 0, 0, 0]\n",
      "['Friday', 0, 0, 0, 0, 0, 0, 0, 0]\n",
      "\n",
      "\n",
      "Swarupa\n",
      "['Zero', '1', '2', '3', '4', '5', '6', '7', '8']\n",
      "['Monday', 0, 0, 0, 0, 0, 0, 0, 0]\n",
      "['Tuesday', 0, 0, 0, 0, 0, 0, 0, 0]\n",
      "['Wednesday', 0, 0, 0, 0, 0, 0, 0, 0]\n",
      "['Thursday', 0, 0, 0, 0, 0, 0, 0, 0]\n",
      "['Friday', 0, 0, 0, 0, 0, 0, 0, 0]\n",
      "\n",
      "\n"
     ]
    }
   ],
   "source": [
    "for i in FTL:\n",
    "    print(i.teachername)\n",
    "    for j in i.ttt:\n",
    "        print(j)\n",
    "    print()\n",
    "    print()"
   ]
  }
 ],
 "metadata": {
  "kernelspec": {
   "display_name": "Python 3",
   "language": "python",
   "name": "python3"
  },
  "language_info": {
   "codemirror_mode": {
    "name": "ipython",
    "version": 3
   },
   "file_extension": ".py",
   "mimetype": "text/x-python",
   "name": "python",
   "nbconvert_exporter": "python",
   "pygments_lexer": "ipython3",
   "version": "3.7.4"
  }
 },
 "nbformat": 4,
 "nbformat_minor": 2
}
