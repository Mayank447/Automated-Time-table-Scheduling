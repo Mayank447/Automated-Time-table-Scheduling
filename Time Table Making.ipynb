{
 "cells": [
  {
   "cell_type": "code",
   "execution_count": 7,
   "metadata": {},
   "outputs": [],
   "source": [
    "M = 6\n",
    "N = 9\n",
    "d = [[0] * N for _ in range(M)]"
   ]
  },
  {
   "cell_type": "code",
   "execution_count": 16,
   "metadata": {},
   "outputs": [],
   "source": [
    "def create_tt(day,cla):\n",
    "    tt=[[0]*cla for i in range(day)]"
   ]
  },
  {
   "cell_type": "code",
   "execution_count": 12,
   "metadata": {},
   "outputs": [],
   "source": [
    "def ttinitiator(d):\n",
    "    d[1][0]='Monday'\n",
    "    d[2][0]='Tuesday'\n",
    "    d[3][0]='Wednesday'\n",
    "    d[4][0]='Thursday'\n",
    "    d[5][0]='Friday'\n",
    "    d[0][1]=\"1\"\n",
    "    d[0][2]=\"2\"\n",
    "    d[0][3]=\"3\"\n",
    "    d[0][4]=\"4\"\n",
    "    d[0][5]=\"5\"\n",
    "    d[0][6]=\"6\"\n",
    "    d[0][7]=\"7\"\n",
    "    d[0][8]=\"8\""
   ]
  },
  {
   "cell_type": "code",
   "execution_count": 13,
   "metadata": {},
   "outputs": [
    {
     "name": "stdout",
     "output_type": "stream",
     "text": [
      "[[0, '1', '2', '3', '4', '5', '6', '7', '8'], ['Monday', 0, 0, 0, 0, 0, 0, 0, 0], ['Tuesday', 0, 0, 0, 0, 0, 0, 0, 0], ['Wednesday', 0, 0, 0, 0, 0, 0, 0, 0], ['Thursday', 0, 0, 0, 0, 0, 0, 0, 0], ['Friday', 0, 0, 0, 0, 0, 0, 0, 0]]\n"
     ]
    }
   ],
   "source": [
    "print(d)"
   ]
  },
  {
   "cell_type": "code",
   "execution_count": 15,
   "metadata": {},
   "outputs": [
    {
     "name": "stdout",
     "output_type": "stream",
     "text": [
      "[0, '1', '2', '3', '4', '5', '6', '7', '8']\n",
      "['Monday', 0, 0, 0, 0, 0, 0, 0, 0]\n",
      "['Tuesday', 0, 0, 0, 0, 0, 0, 0, 0]\n",
      "['Wednesday', 0, 0, 0, 0, 0, 0, 0, 0]\n",
      "['Thursday', 0, 0, 0, 0, 0, 0, 0, 0]\n",
      "['Friday', 0, 0, 0, 0, 0, 0, 0, 0]\n"
     ]
    }
   ],
   "source": [
    "def print_tt(tt):\n",
    "    for i in tt:\n",
    "        print(i)\n",
    "        \n",
    "print_tt(d)"
   ]
  },
  {
   "cell_type": "code",
   "execution_count": null,
   "metadata": {},
   "outputs": [],
   "source": [
    "#Function to insert subjects in student time table\n",
    "def stt_insert(tt, sub, pos):\n",
    "    tt[pos[0]][pos[1]]=sub\n",
    "    \n",
    "#Function to insert classes in teacher time table\n",
    "def ttt_insert(tt, class, pos):\n",
    "    tt[pos[0]][pos[1]]=class"
   ]
  },
  {
   "cell_type": "code",
   "execution_count": 6,
   "metadata": {},
   "outputs": [],
   "source": [
    "class Class:\n",
    "    \n",
    "    def __init__(self, classname,sub1,sub2,sub3,sub4,sub5):\n",
    "        \n",
    "        self.classname=classname\n",
    "        s1=Subject[sub1[0]]\n",
    "        s2=Subject[sub2[0]]\n",
    "        s3=Subject[sub3[0]]\n",
    "        s4=Subject[sub4[0]]\n",
    "        s5=Subject[sub5[0]]\n",
    "        \n",
    "        self.subject1=s1\n",
    "        self.subject2=s2\n",
    "        self.subject3=s3\n",
    "        self.subject4=s4\n",
    "        self.subject5=s5\n",
    "        \n",
    "        self.teacher1=sub1[1]   #s1, t1 will be subject code not names \n",
    "        self.teacher2=sub2[1]\n",
    "        self.teacher3=sub3[1]\n",
    "        self.teacher4=sub4[1]\n",
    "        self.teacher5=sub5[1]\n",
    "        \n",
    "        self.period1=sub1[2]\n",
    "        self.period2=sub2[2]\n",
    "        self.period3=sub3[2]\n",
    "        self.period4=sub4[2]\n",
    "        self.period5=sub5[2]\n",
    "        \n",
    "        subjects=(s1,s2,s3,s4,s5)\n",
    "        self.subjects=subjects\n",
    "        \n",
    "        tt=[[0] * 9 for _ in range(6)]\n",
    "        ttinitiator(tt)\n",
    "        self.stt=tt"
   ]
  },
  {
   "cell_type": "code",
   "execution_count": 4,
   "metadata": {},
   "outputs": [],
   "source": [
    "class Teacher:\n",
    "    \n",
    "    def __init__(self, teachername, tcode,Subject,subcode,periods):\n",
    "        \n",
    "        self.teachername=teachername\n",
    "        self.teachercode=tcode\n",
    "        self.subject=Subject #s is the subject code\n",
    "        self.subjectcode=subcode\n",
    "        tt=[[0] * 9 for _ in range(6)]\n",
    "        ttinitiator(tt)\n",
    "        self.stt=tt"
   ]
  },
  {
   "cell_type": "code",
   "execution_count": 2,
   "metadata": {},
   "outputs": [],
   "source": [
    "#these two dictionaries relate subjectnames to subject codes\n",
    "Subject ={'English':'EN',\n",
    "          'Physics':'PHY',\n",
    "          'Chemistry':'CHY',\n",
    "          'Maths':'MATH',\n",
    "          'Accounts':'ACC',\n",
    "          'Economics':'ECO',\n",
    "          'Computer Sci':'CS',\n",
    "          'History':'HST',\n",
    "          'Geography':'GEO',\n",
    "          'Physical Education':'PE'\n",
    "         }"
   ]
  },
  {
   "cell_type": "code",
   "execution_count": 29,
   "metadata": {},
   "outputs": [],
   "source": [
    "tw=Class(\"XII-A\")"
   ]
  },
  {
   "cell_type": "code",
   "execution_count": 35,
   "metadata": {},
   "outputs": [
    {
     "ename": "SyntaxError",
     "evalue": "invalid syntax (<ipython-input-35-1aab38ffc764>, line 1)",
     "output_type": "error",
     "traceback": [
      "\u001b[1;36m  File \u001b[1;32m\"<ipython-input-35-1aab38ffc764>\"\u001b[1;36m, line \u001b[1;32m1\u001b[0m\n\u001b[1;33m    tw.sub1(\"Ënglish\"):\u001b[0m\n\u001b[1;37m                       ^\u001b[0m\n\u001b[1;31mSyntaxError\u001b[0m\u001b[1;31m:\u001b[0m invalid syntax\n"
     ]
    }
   ],
   "source": [
    "tw.sub1(\"English\"):"
   ]
  },
  {
   "cell_type": "code",
   "execution_count": 34,
   "metadata": {},
   "outputs": [
    {
     "data": {
      "text/plain": [
       "'XII-B'"
      ]
     },
     "execution_count": 34,
     "metadata": {},
     "output_type": "execute_result"
    }
   ],
   "source": [
    "tw.classname"
   ]
  },
  {
   "cell_type": "code",
   "execution_count": 5,
   "metadata": {},
   "outputs": [],
   "source": [
    "def countSX(lst, x): \n",
    "    if lst.count(x)>2:\n",
    "        return False \n",
    "    \n",
    "def STvalid(tt,subjects): #st, tt stands for studnet, teacher timetable\n",
    "        \n",
    "    #d = Counter(list)\n",
    "    for i in subjects:\n",
    "        countSX(subjects,i)\n",
    "    \n",
    "    \n",
    "def TTvalid(tt):\n",
    "    #Checking for no more than 6 periods in a day\n",
    "    for i in range(1,6):\n",
    "        count=0\n",
    "        for j in range(1,9):\n",
    "            if tt[i][j]==0:\n",
    "                count+=1\n",
    "        if count<2:\n",
    "            return False\n",
    "    else:\n",
    "        return True\n",
    "    "
   ]
  },
  {
   "cell_type": "code",
   "execution_count": null,
   "metadata": {},
   "outputs": [],
   "source": []
  }
 ],
 "metadata": {
  "kernelspec": {
   "display_name": "Python 3",
   "language": "python",
   "name": "python3"
  },
  "language_info": {
   "codemirror_mode": {
    "name": "ipython",
    "version": 3
   },
   "file_extension": ".py",
   "mimetype": "text/x-python",
   "name": "python",
   "nbconvert_exporter": "python",
   "pygments_lexer": "ipython3",
   "version": "3.7.4"
  }
 },
 "nbformat": 4,
 "nbformat_minor": 2
}
